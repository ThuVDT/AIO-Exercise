{
  "nbformat": 4,
  "nbformat_minor": 0,
  "metadata": {
    "colab": {
      "provenance": []
    },
    "kernelspec": {
      "name": "python3",
      "display_name": "Python 3"
    },
    "language_info": {
      "name": "python"
    }
  },
  "cells": [
    {
      "cell_type": "code",
      "execution_count": 1,
      "metadata": {
        "colab": {
          "base_uri": "https://localhost:8080/"
        },
        "id": "B8B-CEPJj-21",
        "outputId": "ec149927-3c43-484f-b5da-c872b7f169ea"
      },
      "outputs": [
        {
          "output_type": "stream",
          "name": "stdout",
          "text": [
            "Downloading...\n",
            "From: https://drive.google.com/uc?id=1i9dqan21DjQoG5Q_VEvm0LrVwAlXD0vB\n",
            "To: /content/dog.jpeg\n",
            "\r  0% 0.00/33.7k [00:00<?, ?B/s]\r100% 33.7k/33.7k [00:00<00:00, 32.1MB/s]\n"
          ]
        }
      ],
      "source": [
        "!gdown 1i9dqan21DjQoG5Q_VEvm0LrVwAlXD0vB"
      ]
    },
    {
      "cell_type": "code",
      "source": [
        "import matplotlib.image as mpimg\n",
        "import numpy as np"
      ],
      "metadata": {
        "id": "zLrXxy73kVyg"
      },
      "execution_count": 4,
      "outputs": []
    },
    {
      "cell_type": "code",
      "source": [
        "img = mpimg.imread('/content/dog.jpeg')"
      ],
      "metadata": {
        "id": "VPJM2-D4kFtl"
      },
      "execution_count": 5,
      "outputs": []
    },
    {
      "cell_type": "code",
      "source": [
        "gray_img_02 = np.average(img, axis=2)"
      ],
      "metadata": {
        "id": "oNf3Spx7kMYz"
      },
      "execution_count": 9,
      "outputs": []
    },
    {
      "cell_type": "code",
      "source": [
        "print(gray_img_02[0, 0])"
      ],
      "metadata": {
        "colab": {
          "base_uri": "https://localhost:8080/"
        },
        "id": "liv5QrzNkSA3",
        "outputId": "1add1046-94dd-4844-b63c-ba92ca6d3e9d"
      },
      "execution_count": 10,
      "outputs": [
        {
          "output_type": "stream",
          "name": "stdout",
          "text": [
            "107.66666666666667\n"
          ]
        }
      ]
    }
  ]
}