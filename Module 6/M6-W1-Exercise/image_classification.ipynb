{
  "nbformat": 4,
  "nbformat_minor": 0,
  "metadata": {
    "colab": {
      "provenance": [],
      "gpuType": "T4"
    },
    "kernelspec": {
      "name": "python3",
      "display_name": "Python 3"
    },
    "language_info": {
      "name": "python"
    },
    "accelerator": "GPU"
  },
  "cells": [
    {
      "cell_type": "markdown",
      "source": [
        "## **Phân loại hình ảnh**"
      ],
      "metadata": {
        "id": "QizybzxmKFm8"
      }
    },
    {
      "cell_type": "markdown",
      "source": [
        "### **MNIST Dataset**"
      ],
      "metadata": {
        "id": "8tWPP-JtKPnQ"
      }
    },
    {
      "cell_type": "markdown",
      "source": [
        "#### **1. Tải về bộ dữ liệu**"
      ],
      "metadata": {
        "id": "yfr1w-srKVUo"
      }
    },
    {
      "cell_type": "code",
      "source": [
        "import os\n",
        "import random\n",
        "import numpy as np\n",
        "\n",
        "import torch\n",
        "import torch.nn as nn\n",
        "import torch.optim as optim\n",
        "import torch.nn.functional as F\n",
        "import torch.utils.data as data\n",
        "\n",
        "import torchvision.transforms as transforms\n",
        "import torchvision.datasets as datasets\n",
        "\n",
        "from torchsummary import summary\n",
        "\n",
        "import matplotlib.pyplot as plt\n",
        "from PIL import Image\n",
        "\n",
        "ROOT = './data'\n",
        "\n",
        "train_data = datasets.MNIST(\n",
        "    root=ROOT,\n",
        "    train=True,\n",
        "    download=True\n",
        ")\n",
        "\n",
        "test_data = datasets.MNIST(\n",
        "    root=ROOT,\n",
        "    train=False,\n",
        "    download=True\n",
        "    )"
      ],
      "metadata": {
        "id": "xWOIFp7SJQmk",
        "colab": {
          "base_uri": "https://localhost:8080/"
        },
        "outputId": "1a27bd63-c70e-49b6-fe4b-a1c1bb6ab78e"
      },
      "execution_count": 2,
      "outputs": [
        {
          "output_type": "stream",
          "name": "stdout",
          "text": [
            "Downloading http://yann.lecun.com/exdb/mnist/train-images-idx3-ubyte.gz\n",
            "Failed to download (trying next):\n",
            "HTTP Error 403: Forbidden\n",
            "\n",
            "Downloading https://ossci-datasets.s3.amazonaws.com/mnist/train-images-idx3-ubyte.gz\n",
            "Downloading https://ossci-datasets.s3.amazonaws.com/mnist/train-images-idx3-ubyte.gz to ./data/MNIST/raw/train-images-idx3-ubyte.gz\n"
          ]
        },
        {
          "output_type": "stream",
          "name": "stderr",
          "text": [
            "100%|██████████| 9.91M/9.91M [00:00<00:00, 17.7MB/s]\n"
          ]
        },
        {
          "output_type": "stream",
          "name": "stdout",
          "text": [
            "Extracting ./data/MNIST/raw/train-images-idx3-ubyte.gz to ./data/MNIST/raw\n",
            "\n",
            "Downloading http://yann.lecun.com/exdb/mnist/train-labels-idx1-ubyte.gz\n",
            "Failed to download (trying next):\n",
            "HTTP Error 403: Forbidden\n",
            "\n",
            "Downloading https://ossci-datasets.s3.amazonaws.com/mnist/train-labels-idx1-ubyte.gz\n",
            "Downloading https://ossci-datasets.s3.amazonaws.com/mnist/train-labels-idx1-ubyte.gz to ./data/MNIST/raw/train-labels-idx1-ubyte.gz\n"
          ]
        },
        {
          "output_type": "stream",
          "name": "stderr",
          "text": [
            "100%|██████████| 28.9k/28.9k [00:00<00:00, 498kB/s]\n"
          ]
        },
        {
          "output_type": "stream",
          "name": "stdout",
          "text": [
            "Extracting ./data/MNIST/raw/train-labels-idx1-ubyte.gz to ./data/MNIST/raw\n",
            "\n",
            "Downloading http://yann.lecun.com/exdb/mnist/t10k-images-idx3-ubyte.gz\n",
            "Failed to download (trying next):\n",
            "HTTP Error 403: Forbidden\n",
            "\n",
            "Downloading https://ossci-datasets.s3.amazonaws.com/mnist/t10k-images-idx3-ubyte.gz\n",
            "Downloading https://ossci-datasets.s3.amazonaws.com/mnist/t10k-images-idx3-ubyte.gz to ./data/MNIST/raw/t10k-images-idx3-ubyte.gz\n"
          ]
        },
        {
          "output_type": "stream",
          "name": "stderr",
          "text": [
            "100%|██████████| 1.65M/1.65M [00:00<00:00, 4.48MB/s]\n"
          ]
        },
        {
          "output_type": "stream",
          "name": "stdout",
          "text": [
            "Extracting ./data/MNIST/raw/t10k-images-idx3-ubyte.gz to ./data/MNIST/raw\n",
            "\n",
            "Downloading http://yann.lecun.com/exdb/mnist/t10k-labels-idx1-ubyte.gz\n",
            "Failed to download (trying next):\n",
            "HTTP Error 403: Forbidden\n",
            "\n",
            "Downloading https://ossci-datasets.s3.amazonaws.com/mnist/t10k-labels-idx1-ubyte.gz\n",
            "Downloading https://ossci-datasets.s3.amazonaws.com/mnist/t10k-labels-idx1-ubyte.gz to ./data/MNIST/raw/t10k-labels-idx1-ubyte.gz\n"
          ]
        },
        {
          "output_type": "stream",
          "name": "stderr",
          "text": [
            "100%|██████████| 4.54k/4.54k [00:00<00:00, 6.48MB/s]"
          ]
        },
        {
          "output_type": "stream",
          "name": "stdout",
          "text": [
            "Extracting ./data/MNIST/raw/t10k-labels-idx1-ubyte.gz to ./data/MNIST/raw\n",
            "\n"
          ]
        },
        {
          "output_type": "stream",
          "name": "stderr",
          "text": [
            "\n"
          ]
        }
      ]
    },
    {
      "cell_type": "markdown",
      "source": [
        "#### **2. Tiền xử lý dữ liệu**"
      ],
      "metadata": {
        "id": "ffYFGhtkIHbR"
      }
    },
    {
      "cell_type": "code",
      "source": [
        "# Split training and validation datasets with a ratio of 0.9:0.1\n",
        "VALID_RATIO = 0.9\n",
        "\n",
        "n_train_examples = int(len(train_data) * VALID_RATIO)\n",
        "n_valid_examples = len(train_data) - n_train_examples\n",
        "\n",
        "train_data, valid_data = data.random_split(\n",
        "    train_data,\n",
        "    [n_train_examples, n_valid_examples]\n",
        ")\n",
        "\n",
        "# Compute mean and standard deviation for normalization\n",
        "mean = train_data.dataset.data.float().mean() / 255\n",
        "std = train_data.dataset.data.float().std() / 255\n",
        "\n",
        "train_transforms = transforms.Compose([\n",
        "    transforms.ToTensor(),\n",
        "    transforms.Normalize(mean=[mean], std=[std])\n",
        "])\n",
        "test_transforms = transforms.Compose([\n",
        "    transforms.ToTensor(),\n",
        "    transforms.Normalize(mean=[mean], std=[std])\n",
        "])\n",
        "\n",
        "train_data.dataset.transform = train_transforms\n",
        "valid_data.dataset.transform = test_transforms\n",
        "\n",
        "# Create dataloaders\n",
        "BATCH_SIZE = 256\n",
        "\n",
        "train_dataloader = data.DataLoader(\n",
        "    train_data,\n",
        "    shuffle=True,\n",
        "    batch_size=BATCH_SIZE\n",
        ")\n",
        "\n",
        "valid_dataloader = data.DataLoader(\n",
        "    valid_data,\n",
        "    batch_size=BATCH_SIZE\n",
        ")\n"
      ],
      "metadata": {
        "id": "f9B_Yy6TIDmG"
      },
      "execution_count": 3,
      "outputs": []
    },
    {
      "cell_type": "markdown",
      "source": [
        "#### **3. Xây dựng mô hình LeNet**"
      ],
      "metadata": {
        "id": "gVZRD5OCILyg"
      }
    },
    {
      "cell_type": "code",
      "source": [
        "import torch.nn as nn\n",
        "import torch.nn.functional as F\n",
        "\n",
        "class LeNetClassifier(nn.Module):\n",
        "    def __init__(self, num_classes):\n",
        "        super().__init__()\n",
        "        self.conv1 = nn.Conv2d(\n",
        "            in_channels=1, out_channels=6, kernel_size=5, padding='same'\n",
        "        )\n",
        "        self.avgpool1 = nn.AvgPool2d(kernel_size=2)\n",
        "        self.conv2 = nn.Conv2d(in_channels=6, out_channels=16, kernel_size=5)\n",
        "        self.avgpool2 = nn.AvgPool2d(kernel_size=2)\n",
        "        self.flatten = nn.Flatten()\n",
        "        self.fc_1 = nn.Linear(16 * 5 * 5, 120)\n",
        "        self.fc_2 = nn.Linear(120, 84)\n",
        "        self.fc_3 = nn.Linear(84, num_classes)\n",
        "\n",
        "    def forward(self, inputs):\n",
        "        outputs = self.conv1(inputs)\n",
        "        outputs = self.avgpool1(outputs)\n",
        "        outputs = F.relu(outputs)\n",
        "        outputs = self.conv2(outputs)\n",
        "        outputs = self.avgpool2(outputs)\n",
        "        outputs = F.relu(outputs)\n",
        "        outputs = self.flatten(outputs)\n",
        "        outputs = self.fc_1(outputs)\n",
        "        outputs = self.fc_2(outputs)\n",
        "        outputs = self.fc_3(outputs)\n",
        "        return outputs"
      ],
      "metadata": {
        "id": "owMYujMUIM_t"
      },
      "execution_count": 4,
      "outputs": []
    },
    {
      "cell_type": "markdown",
      "source": [
        "#### **4. Huấn luyện mô hình**"
      ],
      "metadata": {
        "id": "lHfN3DM4IZyI"
      }
    },
    {
      "cell_type": "code",
      "source": [
        "import time\n",
        "import torch\n",
        "\n",
        "# Training function\n",
        "def train(model, optimizer, criterion, train_dataloader, device, epoch=0, log_interval=50):\n",
        "    model.train()\n",
        "    total_acc, total_count = 0, 0\n",
        "    losses = []\n",
        "    start_time = time.time()\n",
        "\n",
        "    for idx, (inputs, labels) in enumerate(train_dataloader):\n",
        "        inputs = inputs.to(device)\n",
        "        labels = labels.to(device)\n",
        "\n",
        "        optimizer.zero_grad()\n",
        "\n",
        "        predictions = model(inputs)\n",
        "\n",
        "        # Compute loss\n",
        "        loss = criterion(predictions, labels)\n",
        "        losses.append(loss.item())\n",
        "\n",
        "        # Backward pass\n",
        "        loss.backward()\n",
        "        torch.nn.utils.clip_grad_norm_(model.parameters(), 0.1)\n",
        "        optimizer.step()\n",
        "\n",
        "        total_acc += (predictions.argmax(1) == labels).sum().item()\n",
        "        total_count += labels.size(0)\n",
        "\n",
        "        if idx % log_interval == 0 and idx > 0:\n",
        "            elapsed = time.time() - start_time\n",
        "            print(\n",
        "                \"| epoch {:3d} | {:5d}/{:5d} batches \"\n",
        "                \"| accuracy {:8.3f}\".format(\n",
        "                    epoch, idx, len(train_dataloader), total_acc / total_count\n",
        "                )\n",
        "            )\n",
        "            total_acc, total_count = 0, 0\n",
        "            start_time = time.time()\n",
        "\n",
        "    epoch_acc = total_acc / total_count\n",
        "    epoch_loss = sum(losses) / len(losses)\n",
        "    return epoch_acc, epoch_loss\n",
        "\n",
        "# Evaluation function\n",
        "def evaluate(model, criterion, valid_dataloader, device):\n",
        "    model.eval()\n",
        "    total_acc, total_count = 0, 0\n",
        "    losses = []\n",
        "\n",
        "    with torch.no_grad():\n",
        "        for idx, (inputs, labels) in enumerate(valid_dataloader):\n",
        "            inputs = inputs.to(device)\n",
        "            labels = labels.to(device)\n",
        "\n",
        "            predictions = model(inputs)\n",
        "\n",
        "            # Compute loss\n",
        "            loss = criterion(predictions, labels)\n",
        "            losses.append(loss.item())\n",
        "\n",
        "            total_acc += (predictions.argmax(1) == labels).sum().item()\n",
        "            total_count += labels.size(0)\n",
        "\n",
        "    epoch_acc = total_acc / total_count\n",
        "    epoch_loss = sum(losses) / len(losses)\n",
        "    return epoch_acc, epoch_loss\n"
      ],
      "metadata": {
        "id": "L_WAOEuZIic_"
      },
      "execution_count": 5,
      "outputs": []
    },
    {
      "cell_type": "code",
      "source": [
        "import time\n",
        "import torch\n",
        "import torch.optim as optim\n",
        "\n",
        "num_classes = len(train_data.dataset.classes)\n",
        "\n",
        "device = torch.device('cuda' if torch.cuda.is_available() else 'cpu')\n",
        "\n",
        "lenet_model = LeNetClassifier(num_classes)\n",
        "lenet_model.to(device)\n",
        "\n",
        "criterion = torch.nn.CrossEntropyLoss()\n",
        "optimizer = optim.Adam(lenet_model.parameters())\n",
        "\n",
        "num_epochs = 10\n",
        "\n",
        "save_model = './model'\n",
        "\n",
        "# Create the parent directory if it doesn't exist\n",
        "os.makedirs(save_model, exist_ok=True)\n",
        "\n",
        "train_accs, train_losses = [], []\n",
        "eval_accs, eval_losses = [], []\n",
        "\n",
        "best_loss_eval = 100\n",
        "\n",
        "for epoch in range(1, num_epochs + 1):\n",
        "    epoch_start_time = time.time()\n",
        "\n",
        "    train_acc, train_loss = train(lenet_model, optimizer, criterion, train_dataloader, device, epoch)\n",
        "    train_accs.append(train_acc)\n",
        "    train_losses.append(train_loss)\n",
        "\n",
        "    eval_acc, eval_loss = evaluate(lenet_model, criterion, valid_dataloader, device)\n",
        "    eval_accs.append(eval_acc)\n",
        "    eval_losses.append(eval_loss)\n",
        "\n",
        "    if eval_loss < best_loss_eval:\n",
        "        torch.save(lenet_model.state_dict(), save_model + '/lenet_model.pt')\n",
        "        best_loss_eval = eval_loss\n",
        "\n",
        "    print(\"-\" * 59)\n",
        "    print(\n",
        "        \"| End of epoch {:3d} | Time: {:5.2f}s | Train Accuracy {:8.3f} | Train Loss {:8.3f} \"\n",
        "        \"| Valid Accuracy {:8.3f} | Valid Loss {:8.3f}\".format(\n",
        "            epoch, time.time() - epoch_start_time, train_acc, train_loss, eval_acc, eval_loss\n",
        "        )\n",
        "    )\n",
        "    print(\"-\" * 59)\n",
        "\n",
        "lenet_model.load_state_dict(torch.load(save_model + '/lenet_model.pt'))\n",
        "lenet_model.eval()"
      ],
      "metadata": {
        "colab": {
          "base_uri": "https://localhost:8080/"
        },
        "id": "MGV0TTWHIzIB",
        "outputId": "fca0c9e6-571a-415a-dfaf-c979b6901996"
      },
      "execution_count": 9,
      "outputs": [
        {
          "output_type": "stream",
          "name": "stdout",
          "text": [
            "| epoch   1 |    50/  211 batches | accuracy    0.691\n",
            "| epoch   1 |   100/  211 batches | accuracy    0.897\n",
            "| epoch   1 |   150/  211 batches | accuracy    0.929\n",
            "| epoch   1 |   200/  211 batches | accuracy    0.949\n",
            "-----------------------------------------------------------\n",
            "| End of epoch   1 | Time: 13.32s | Train Accuracy    0.950 | Train Loss    0.458 | Valid Accuracy    0.951 | Valid Loss    0.166\n",
            "-----------------------------------------------------------\n",
            "| epoch   2 |    50/  211 batches | accuracy    0.957\n",
            "| epoch   2 |   100/  211 batches | accuracy    0.964\n",
            "| epoch   2 |   150/  211 batches | accuracy    0.968\n",
            "| epoch   2 |   200/  211 batches | accuracy    0.968\n",
            "-----------------------------------------------------------\n",
            "| End of epoch   2 | Time: 13.51s | Train Accuracy    0.970 | Train Loss    0.116 | Valid Accuracy    0.966 | Valid Loss    0.107\n",
            "-----------------------------------------------------------\n",
            "| epoch   3 |    50/  211 batches | accuracy    0.973\n",
            "| epoch   3 |   100/  211 batches | accuracy    0.972\n",
            "| epoch   3 |   150/  211 batches | accuracy    0.977\n",
            "| epoch   3 |   200/  211 batches | accuracy    0.976\n",
            "-----------------------------------------------------------\n",
            "| End of epoch   3 | Time: 13.19s | Train Accuracy    0.979 | Train Loss    0.086 | Valid Accuracy    0.974 | Valid Loss    0.089\n",
            "-----------------------------------------------------------\n",
            "| epoch   4 |    50/  211 batches | accuracy    0.975\n",
            "| epoch   4 |   100/  211 batches | accuracy    0.977\n",
            "| epoch   4 |   150/  211 batches | accuracy    0.979\n",
            "| epoch   4 |   200/  211 batches | accuracy    0.978\n",
            "-----------------------------------------------------------\n",
            "| End of epoch   4 | Time: 13.38s | Train Accuracy    0.979 | Train Loss    0.074 | Valid Accuracy    0.972 | Valid Loss    0.093\n",
            "-----------------------------------------------------------\n",
            "| epoch   5 |    50/  211 batches | accuracy    0.980\n",
            "| epoch   5 |   100/  211 batches | accuracy    0.980\n",
            "| epoch   5 |   150/  211 batches | accuracy    0.982\n",
            "| epoch   5 |   200/  211 batches | accuracy    0.980\n",
            "-----------------------------------------------------------\n",
            "| End of epoch   5 | Time: 13.30s | Train Accuracy    0.986 | Train Loss    0.062 | Valid Accuracy    0.979 | Valid Loss    0.073\n",
            "-----------------------------------------------------------\n",
            "| epoch   6 |    50/  211 batches | accuracy    0.983\n",
            "| epoch   6 |   100/  211 batches | accuracy    0.981\n",
            "| epoch   6 |   150/  211 batches | accuracy    0.981\n",
            "| epoch   6 |   200/  211 batches | accuracy    0.982\n",
            "-----------------------------------------------------------\n",
            "| End of epoch   6 | Time: 13.41s | Train Accuracy    0.987 | Train Loss    0.057 | Valid Accuracy    0.978 | Valid Loss    0.074\n",
            "-----------------------------------------------------------\n",
            "| epoch   7 |    50/  211 batches | accuracy    0.984\n",
            "| epoch   7 |   100/  211 batches | accuracy    0.985\n",
            "| epoch   7 |   150/  211 batches | accuracy    0.983\n",
            "| epoch   7 |   200/  211 batches | accuracy    0.986\n",
            "-----------------------------------------------------------\n",
            "| End of epoch   7 | Time: 13.73s | Train Accuracy    0.984 | Train Loss    0.051 | Valid Accuracy    0.980 | Valid Loss    0.073\n",
            "-----------------------------------------------------------\n",
            "| epoch   8 |    50/  211 batches | accuracy    0.987\n",
            "| epoch   8 |   100/  211 batches | accuracy    0.984\n",
            "| epoch   8 |   150/  211 batches | accuracy    0.987\n",
            "| epoch   8 |   200/  211 batches | accuracy    0.985\n",
            "-----------------------------------------------------------\n",
            "| End of epoch   8 | Time: 13.77s | Train Accuracy    0.984 | Train Loss    0.046 | Valid Accuracy    0.978 | Valid Loss    0.077\n",
            "-----------------------------------------------------------\n",
            "| epoch   9 |    50/  211 batches | accuracy    0.987\n",
            "| epoch   9 |   100/  211 batches | accuracy    0.987\n",
            "| epoch   9 |   150/  211 batches | accuracy    0.985\n",
            "| epoch   9 |   200/  211 batches | accuracy    0.987\n",
            "-----------------------------------------------------------\n",
            "| End of epoch   9 | Time: 13.46s | Train Accuracy    0.986 | Train Loss    0.044 | Valid Accuracy    0.981 | Valid Loss    0.065\n",
            "-----------------------------------------------------------\n",
            "| epoch  10 |    50/  211 batches | accuracy    0.989\n",
            "| epoch  10 |   100/  211 batches | accuracy    0.987\n",
            "| epoch  10 |   150/  211 batches | accuracy    0.988\n",
            "| epoch  10 |   200/  211 batches | accuracy    0.984\n",
            "-----------------------------------------------------------\n",
            "| End of epoch  10 | Time: 13.36s | Train Accuracy    0.987 | Train Loss    0.040 | Valid Accuracy    0.980 | Valid Loss    0.069\n",
            "-----------------------------------------------------------\n"
          ]
        },
        {
          "output_type": "stream",
          "name": "stderr",
          "text": [
            "<ipython-input-9-1cf5cac99662>:51: FutureWarning: You are using `torch.load` with `weights_only=False` (the current default value), which uses the default pickle module implicitly. It is possible to construct malicious pickle data which will execute arbitrary code during unpickling (See https://github.com/pytorch/pytorch/blob/main/SECURITY.md#untrusted-models for more details). In a future release, the default value for `weights_only` will be flipped to `True`. This limits the functions that could be executed during unpickling. Arbitrary objects will no longer be allowed to be loaded via this mode unless they are explicitly allowlisted by the user via `torch.serialization.add_safe_globals`. We recommend you start setting `weights_only=True` for any use case where you don't have full control of the loaded file. Please open an issue on GitHub for any issues related to this experimental feature.\n",
            "  lenet_model.load_state_dict(torch.load(save_model + '/lenet_model.pt'))\n"
          ]
        },
        {
          "output_type": "execute_result",
          "data": {
            "text/plain": [
              "LeNetClassifier(\n",
              "  (conv1): Conv2d(1, 6, kernel_size=(5, 5), stride=(1, 1), padding=same)\n",
              "  (avgpool1): AvgPool2d(kernel_size=2, stride=2, padding=0)\n",
              "  (conv2): Conv2d(6, 16, kernel_size=(5, 5), stride=(1, 1))\n",
              "  (avgpool2): AvgPool2d(kernel_size=2, stride=2, padding=0)\n",
              "  (flatten): Flatten(start_dim=1, end_dim=-1)\n",
              "  (fc_1): Linear(in_features=400, out_features=120, bias=True)\n",
              "  (fc_2): Linear(in_features=120, out_features=84, bias=True)\n",
              "  (fc_3): Linear(in_features=84, out_features=10, bias=True)\n",
              ")"
            ]
          },
          "metadata": {},
          "execution_count": 9
        }
      ]
    },
    {
      "cell_type": "code",
      "source": [
        "def plot_result(num_epochs, train_accs, eval_accs, train_losses, eval_losses):\n",
        "    epochs = list(range(num_epochs))\n",
        "    fig, axs = plt.subplots(nrows = 1, ncols =2 , figsize = (12,6))\n",
        "    axs[0].plot(epochs, train_accs, label = \"Training\")\n",
        "    axs[0].plot(epochs, eval_accs, label = \"Evaluation\")\n",
        "    axs[1].plot(epochs, train_losses, label = \"Training\")\n",
        "    axs[1].plot(epochs, eval_losses, label = \"Evaluation\")\n",
        "    axs[0].set_xlabel(\"Epochs\")\n",
        "    axs[1].set_xlabel(\"Epochs\")\n",
        "    axs[0].set_ylabel(\"Accuracy\")\n",
        "    axs[1].set_ylabel(\"Loss\")\n",
        "    plt.legend()\n",
        "\n",
        "plot_result(num_epochs, train_accs, eval_accs, train_losses, eval_losses)"
      ],
      "metadata": {
        "colab": {
          "base_uri": "https://localhost:8080/",
          "height": 349
        },
        "id": "TMS5U6cFLAUi",
        "outputId": "5422c712-0063-41cf-a25a-720ced9d11b9"
      },
      "execution_count": 10,
      "outputs": [
        {
          "output_type": "display_data",
          "data": {
            "text/plain": [
              "<Figure size 1200x600 with 2 Axes>"
            ],
            "image/png": "[encoded data removed]"
          },
          "metadata": {}
        }
      ]
    },
    {
      "cell_type": "markdown",
      "source": [
        "#### **5. Đánh giá mô hình trên tập test**"
      ],
      "metadata": {
        "id": "1tjjsvnfLCKS"
      }
    },
    {
      "cell_type": "code",
      "source": [
        "test_data.transform = test_transforms\n",
        "\n",
        "test_dataloader = data.DataLoader(\n",
        "    test_data,\n",
        "    batch_size=BATCH_SIZE\n",
        ")\n",
        "\n",
        "test_acc, test_loss = evaluate(lenet_model, criterion, test_dataloader, device)\n",
        "test_acc, test_loss"
      ],
      "metadata": {
        "colab": {
          "base_uri": "https://localhost:8080/"
        },
        "id": "9x5D6PdRLAhb",
        "outputId": "a61cef11-3119-4328-c05c-16b615b1aa91"
      },
      "execution_count": 12,
      "outputs": [
        {
          "output_type": "execute_result",
          "data": {
            "text/plain": [
              "(0.9867, 0.04057622957898275)"
            ]
          },
          "metadata": {},
          "execution_count": 12
        }
      ]
    }
  ]
}