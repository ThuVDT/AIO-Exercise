{
 "cells": [
  {
   "cell_type": "code",
   "execution_count": 1,
   "metadata": {},
   "outputs": [],
   "source": [
    "import numpy as np\n",
    "import matplotlib.pyplot as plt\n",
    "import random"
   ]
  },
  {
   "cell_type": "markdown",
   "metadata": {},
   "source": [
    "### Bài tập 1"
   ]
  },
  {
   "cell_type": "code",
   "execution_count": 2,
   "metadata": {},
   "outputs": [],
   "source": [
    "def get_column(data, index):\n",
    "    result = [row[index] for row in data]\n",
    "    return result\n",
    "\n",
    "def prepare_data(file_name_dataset):\n",
    "    data = np.genfromtxt(file_name_dataset, delimiter=',', skip_header=1).tolist()\n",
    "    \n",
    "    # Extracting columns\n",
    "    tv_data = get_column(data, 0)       \n",
    "    radio_data = get_column(data, 1)     \n",
    "    newspaper_data = get_column(data, 2) \n",
    "    sales_data = get_column(data, 3)     \n",
    "\n",
    "    # Building X input and y output for training\n",
    "    X = [tv_data, radio_data, newspaper_data]\n",
    "    y = sales_data\n",
    "    return X, y"
   ]
  },
  {
   "cell_type": "code",
   "execution_count": 3,
   "metadata": {},
   "outputs": [
    {
     "name": "stdout",
     "output_type": "stream",
     "text": [
      "[624.1, 175.10000000000002, 300.5, 78.9]\n"
     ]
    }
   ],
   "source": [
    "# Question 1\n",
    "X,y = prepare_data('advertising.csv')\n",
    "list = [sum(X[0][:5]), sum(X[1][:5]), sum(X[2][:5]), sum(y[:5])]\n",
    "print(list)"
   ]
  },
  {
   "cell_type": "markdown",
   "metadata": {},
   "source": [
    "### Bài tập 2"
   ]
  },
  {
   "cell_type": "code",
   "execution_count": 4,
   "metadata": {},
   "outputs": [],
   "source": [
    "def implement_linear_regression(x_data, y_data, epoch_max=50, lr=1e-5):\n",
    "    losses = []\n",
    "\n",
    "    w1, w2, w3, b = initialize_params()\n",
    "    \n",
    "    N = len(y_data)\n",
    "    for epoch in range(epoch_max):\n",
    "        for i in range(N):\n",
    "            # Get a sample\n",
    "            x1 = x_data[0][i]\n",
    "            x2 = x_data[1][i]\n",
    "            x3 = x_data[2][i]\n",
    "            \n",
    "            y = y_data[i]\n",
    "            \n",
    "            # Compute output\n",
    "            y_hat = predict(x1, x2, x3, w1, w2, w3, b)\n",
    "            \n",
    "            # Compute loss\n",
    "            loss = compute_loss(y, y_hat)\n",
    "            \n",
    "            # Compute gradient w1, w2, w3, b\n",
    "            dl_dw1 = compute_gradient_wi(x1, y, y_hat)\n",
    "            dl_dw2 = compute_gradient_wi(x2, y, y_hat)\n",
    "            dl_dw3 = compute_gradient_wi(x3, y, y_hat)\n",
    "            dl_db = compute_gradient_b(y, y_hat)\n",
    "            \n",
    "            # Update parameters\n",
    "            w1 = update_weight_wi(w1, dl_dw1, lr)\n",
    "            w2 = update_weight_wi(w2, dl_dw2, lr)\n",
    "            w3 = update_weight_wi(w3, dl_dw3, lr)\n",
    "            b = update_weight_b(b, dl_db, lr)\n",
    "            \n",
    "            # Logging\n",
    "            losses.append(loss)\n",
    "\n",
    "    return (w1, w2, w3, b, losses)\n"
   ]
  },
  {
   "cell_type": "code",
   "execution_count": 5,
   "metadata": {},
   "outputs": [],
   "source": [
    "def initialize_params():\n",
    "    w1 = random.gauss(mu=0.0, sigma=0.01)\n",
    "    w2 = random.gauss(mu=0.0, sigma=0.01)\n",
    "    w3 = random.gauss(mu=0.0, sigma=0.01)\n",
    "    b = 0\n",
    "    return w1, w2, w3, b"
   ]
  },
  {
   "cell_type": "code",
   "execution_count": 6,
   "metadata": {},
   "outputs": [],
   "source": [
    "def initialize_params():\n",
    "    w1, w2, w3, b = (0.016992259082509283, 0.0070783670518262355, -0.002307860847821344, 0)\n",
    "    return w1, w2, w3, b"
   ]
  },
  {
   "cell_type": "code",
   "execution_count": 7,
   "metadata": {},
   "outputs": [],
   "source": [
    "def predict(x1, x2, x3, w1, w2, w3, b):\n",
    "    result = w1 * x1 + w2 * x2 + w3 * x3 + b\n",
    "    return result"
   ]
  },
  {
   "cell_type": "code",
   "execution_count": 8,
   "metadata": {},
   "outputs": [
    {
     "name": "stdout",
     "output_type": "stream",
     "text": [
      "1.0\n"
     ]
    }
   ],
   "source": [
    "# Question 2\n",
    "y = predict(x1=1, x2=1, x3=1, w1=0, w2=0.5, w3=0, b=0.5)\n",
    "print(y)"
   ]
  },
  {
   "cell_type": "code",
   "execution_count": 9,
   "metadata": {},
   "outputs": [],
   "source": [
    "def compute_loss(y_hat, y):\n",
    "    loss = (y_hat - y) ** 2\n",
    "    return loss"
   ]
  },
  {
   "cell_type": "code",
   "execution_count": 10,
   "metadata": {},
   "outputs": [
    {
     "name": "stdout",
     "output_type": "stream",
     "text": [
      "0.25\n"
     ]
    }
   ],
   "source": [
    "# Question 3\n",
    "l = compute_loss(y_hat =1, y =0.5)\n",
    "print(l)"
   ]
  },
  {
   "cell_type": "code",
   "execution_count": 11,
   "metadata": {},
   "outputs": [],
   "source": [
    "def compute_gradient_wi(xi, y, y_hat):\n",
    "    dl_dwi = 2 * (y_hat - y) * xi\n",
    "    return dl_dwi\n",
    "\n",
    "def compute_gradient_b(y, y_hat):\n",
    "    dl_db = 2 * (y_hat - y)\n",
    "    return dl_db"
   ]
  },
  {
   "cell_type": "code",
   "execution_count": 12,
   "metadata": {},
   "outputs": [
    {
     "name": "stdout",
     "output_type": "stream",
     "text": [
      "-1.0\n"
     ]
    }
   ],
   "source": [
    "# Question 4\n",
    "g_wi = compute_gradient_wi(xi=1.0, y=1.0, y_hat=0.5)\n",
    "print(g_wi)"
   ]
  },
  {
   "cell_type": "code",
   "execution_count": 13,
   "metadata": {},
   "outputs": [
    {
     "name": "stdout",
     "output_type": "stream",
     "text": [
      "-3.0\n"
     ]
    }
   ],
   "source": [
    "# Question 5\n",
    "g_b = compute_gradient_b(y=2.0, y_hat=0.5)\n",
    "print(g_b)"
   ]
  },
  {
   "cell_type": "code",
   "execution_count": 14,
   "metadata": {},
   "outputs": [],
   "source": [
    "def update_weight_wi(wi, dl_dwi, lr):\n",
    "    wi -= lr * dl_dwi\n",
    "    return wi\n",
    "\n",
    "def update_weight_b(b, dl_db, lr):\n",
    "    b -= lr * dl_db\n",
    "    return b"
   ]
  },
  {
   "cell_type": "code",
   "execution_count": 15,
   "metadata": {},
   "outputs": [
    {
     "name": "stdout",
     "output_type": "stream",
     "text": [
      "1.000005\n"
     ]
    }
   ],
   "source": [
    "# Question 6\n",
    "after_wi = update_weight_wi(wi=1.0, dl_dwi=-0.5, lr=1e-5)\n",
    "print(after_wi)"
   ]
  },
  {
   "cell_type": "code",
   "execution_count": 16,
   "metadata": {},
   "outputs": [
    {
     "name": "stdout",
     "output_type": "stream",
     "text": [
      "0.50001\n"
     ]
    }
   ],
   "source": [
    "# Question 7\n",
    "after_b = update_weight_b(b=0.5, dl_db=-1.0, lr=1e-5)\n",
    "print(after_b)"
   ]
  },
  {
   "cell_type": "code",
   "execution_count": 18,
   "metadata": {},
   "outputs": [
    {
     "data": {
      "image/png": "[encoded data removed]",
      "text/plain": [
       "<Figure size 640x480 with 1 Axes>"
      ]
     },
     "metadata": {},
     "output_type": "display_data"
    }
   ],
   "source": [
    "X,y = prepare_data('advertising.csv')\n",
    "(w1,w2,w3,b, losses) = implement_linear_regression(X,y)\n",
    "plt.plot(losses[:100])\n",
    "plt.xlabel(\"#iteration\")\n",
    "plt.ylabel(\"Loss\")\n",
    "plt.show()"
   ]
  },
  {
   "cell_type": "code",
   "execution_count": 18,
   "metadata": {},
   "outputs": [
    {
     "name": "stdout",
     "output_type": "stream",
     "text": [
      "0.07405984066396477 0.15917360263437663 0.017561197559948935\n"
     ]
    }
   ],
   "source": [
    "# Question 8\n",
    "w1, w2, w3, b, losses = implement_linear_regression(X, y)\n",
    "print(w1, w2, w3)"
   ]
  },
  {
   "cell_type": "code",
   "execution_count": 19,
   "metadata": {},
   "outputs": [
    {
     "name": "stdout",
     "output_type": "stream",
     "text": [
      "Predicted sales is 8.176413319549823\n"
     ]
    }
   ],
   "source": [
    "# Question 9\n",
    "tv = 19.2\n",
    "radio = 35.9\n",
    "newspaper = 51.3\n",
    "\n",
    "w1, w2, w3, b, losses = implement_linear_regression(X, y, epoch_max=50, lr=1e-5)\n",
    "\n",
    "sales = predict(tv, radio, newspaper, w1, w2, w3, b)\n",
    "print(f'Predicted sales is {sales}')\n"
   ]
  },
  {
   "cell_type": "code",
   "execution_count": 20,
   "metadata": {},
   "outputs": [
    {
     "name": "stdout",
     "output_type": "stream",
     "text": [
      "0.5\n"
     ]
    }
   ],
   "source": [
    "# Question 10\n",
    "def compute_loss_mae(y_hat, y):\n",
    "    loss = abs(y_hat - y)\n",
    "    return loss\n",
    "\n",
    "l = compute_loss_mae(y_hat=1, y=0.5)\n",
    "print(l)"
   ]
  },
  {
   "cell_type": "markdown",
   "metadata": {},
   "source": [
    "### Bài 3"
   ]
  },
  {
   "cell_type": "code",
   "execution_count": 38,
   "metadata": {},
   "outputs": [],
   "source": [
    "def implement_linear_regression_nsamples(x_data, y_data, epoch_max=50, lr=1e-5):\n",
    "    losses = []\n",
    "\n",
    "    # Initialize parameters\n",
    "    w1, w2, w3, b = initialize_params()\n",
    "    N = len(y_data)\n",
    "\n",
    "    for epoch in range(epoch_max):\n",
    "        # Initialize accumulators for loss and gradients\n",
    "        loss_total = 0.0\n",
    "        dw1_total = 0.0\n",
    "        dw2_total = 0.0\n",
    "        dw3_total = 0.0\n",
    "        db_total = 0.0\n",
    "\n",
    "        for i in range(N):\n",
    "            # Get a sample\n",
    "            x1 = x_data[0][i]\n",
    "            x2 = x_data[1][i]\n",
    "            x3 = x_data[2][i]\n",
    "            y = y_data[i]\n",
    "\n",
    "            # Compute output\n",
    "            y_hat = predict(x1, x2, x3, w1, w2, w3, b)\n",
    "\n",
    "            # Compute loss\n",
    "            loss = compute_loss(y, y_hat)\n",
    "\n",
    "            # Accumulate loss\n",
    "            loss_total += loss\n",
    "\n",
    "            # Compute gradients\n",
    "            dl_dw1 = compute_gradient_wi(x1, y, y_hat)\n",
    "            dl_dw2 = compute_gradient_wi(x2, y, y_hat)\n",
    "            dl_dw3 = compute_gradient_wi(x3, y, y_hat)\n",
    "            dl_db = compute_gradient_b(y, y_hat)\n",
    "\n",
    "            # Accumulate gradients\n",
    "            dw1_total += dl_dw1\n",
    "            dw2_total += dl_dw2\n",
    "            dw3_total += dl_dw3\n",
    "            db_total += dl_db\n",
    "\n",
    "        # Update parameters after processing N samples\n",
    "        w1 -= lr * dw1_total / N\n",
    "        w2 -= lr * dw2_total / N\n",
    "        w3 -= lr * dw3_total / N\n",
    "        b -= lr * db_total / N\n",
    "\n",
    "        # Logging\n",
    "        losses.append(loss_total / N)  # Average loss for the epoch\n",
    "\n",
    "    return (w1, w2, w3, b, losses)"
   ]
  },
  {
   "cell_type": "code",
   "execution_count": 24,
   "metadata": {},
   "outputs": [
    {
     "data": {
      "image/png": "[encoded data removed]",
      "text/plain": [
       "<Figure size 640x480 with 1 Axes>"
      ]
     },
     "metadata": {},
     "output_type": "display_data"
    }
   ],
   "source": [
    "# Train linear regression model\n",
    "w1, w2, w3, b, losses = implement_linear_regression_nsamples(X, y, epoch_max=1000, lr=1e-5)\n",
    "\n",
    "# Print the losses\n",
    "\n",
    "# Plot the MSE loss over epochs\n",
    "plt.plot(losses)\n",
    "plt.xlabel(\"# Epoch\")\n",
    "plt.ylabel(\"MSE Loss\")\n",
    "plt.title(\"MSE Loss over Epochs\")\n",
    "plt.show()\n"
   ]
  },
  {
   "cell_type": "code",
   "execution_count": 25,
   "metadata": {},
   "outputs": [
    {
     "name": "stdout",
     "output_type": "stream",
     "text": [
      "0.06710990754044266 0.15756173831487585 0.029619799386084403\n"
     ]
    }
   ],
   "source": [
    "# Question 11\n",
    "w1, w2, w3, b, losses = implement_linear_regression_nsamples(X, y, epoch_max=1000, lr=1e-5)\n",
    "print(w1, w2, w3)\n"
   ]
  },
  {
   "cell_type": "code",
   "execution_count": 26,
   "metadata": {},
   "outputs": [
    {
     "data": {
      "image/png": "[encoded data removed]",
      "text/plain": [
       "<Figure size 640x480 with 1 Axes>"
      ]
     },
     "metadata": {},
     "output_type": "display_data"
    }
   ],
   "source": [
    "\n",
    "w1, w2, w3, b, losses = implement_linear_regression_nsamples(X, y, epoch_max=1000, lr=1e-5)\n",
    "\n",
    "plt.plot(losses)\n",
    "plt.xlabel(\"# Epoch\")\n",
    "plt.ylabel(\"MSE Loss\")\n",
    "plt.title(\"MSE Loss over Epochs\")\n",
    "plt.show()"
   ]
  },
  {
   "cell_type": "markdown",
   "metadata": {},
   "source": [
    "### Bài tập 4"
   ]
  },
  {
   "cell_type": "code",
   "execution_count": 27,
   "metadata": {},
   "outputs": [],
   "source": [
    "def prepare_data(file_name_dataset):\n",
    "    # Load the dataset, skipping the header\n",
    "    data = np.genfromtxt(file_name_dataset, delimiter=',', skip_header=1).tolist()\n",
    "\n",
    "    # Get tv (index = 0)\n",
    "    tv_data = get_column(data, 0)\n",
    "\n",
    "    # Get radio (index = 1)\n",
    "    radio_data = get_column(data, 1)\n",
    "\n",
    "    # Get newspaper (index = 2)\n",
    "    newspaper_data = get_column(data, 2)\n",
    "\n",
    "    # Get sales (index = 3)\n",
    "    sales_data = get_column(data, 3)\n",
    "\n",
    "    # Building X input and y output for training\n",
    "    # Create list of features for input\n",
    "    X = [[1, x1, x2, x3] for x1, x2, x3 in zip(tv_data, radio_data, newspaper_data)]\n",
    "    y = sales_data\n",
    "    \n",
    "    return X, y"
   ]
  },
  {
   "cell_type": "code",
   "execution_count": 28,
   "metadata": {},
   "outputs": [],
   "source": [
    "def initialize_params():\n",
    "    bias = 0\n",
    "    w1 = random.gauss(mu=0.0, sigma=0.01)\n",
    "    w2 = random.gauss(mu=0.0, sigma=0.01)\n",
    "    w3 = random.gauss(mu=0.0, sigma=0.01)\n",
    "\n",
    "    # Comment this line for real application\n",
    "    # return[bias, w1, w2, w3]\n",
    "    return [0, -0.01268850433497871, 0.004752496982185252, 0.0073796171538643845]\n"
   ]
  },
  {
   "cell_type": "code",
   "execution_count": 36,
   "metadata": {},
   "outputs": [],
   "source": [
    "def predict(x_features, weights):\n",
    "    # Calculate the dot product of x_features and weights\n",
    "    x_features = np.array(x_features)\n",
    "    weights = np.array(weights)\n",
    "    result = np.dot(x_features, weights)\n",
    "    return result\n",
    "\n",
    "def compute_loss(y_hat, y):\n",
    "    # Calculate the squared loss\n",
    "    return (y_hat - y) ** 2\n",
    "\n",
    "# Compute gradient\n",
    "def compute_gradient_w(x_features, y, y_hat):\n",
    "    x_features = np.array(x_features)\n",
    "    dl_dweights = 2*x_features*(y_hat - y)\n",
    "    return dl_dweights\n",
    "\n",
    "# Update weights\n",
    "def update_weight(weights, dl_dweights, lr):\n",
    "    weights = np.array(weights)\n",
    "    dl_dweights = np.array(dl_dweights)\n",
    "    weights = weights - lr*dl_dweights\n",
    "    return weights"
   ]
  },
  {
   "cell_type": "code",
   "execution_count": 34,
   "metadata": {},
   "outputs": [],
   "source": [
    "def implement_linear_regression(x_features, y_ouput, epoch_max = 50,lr = 1e-5):\n",
    "\n",
    "  losses = []\n",
    "  weights = initialize_params()\n",
    "  N = len(y_ouput)\n",
    "  for epoch in range(epoch_max):\n",
    "      print(\"epoch\", epoch)\n",
    "      for i in range(N):\n",
    "          # get a sample - row i     \n",
    "          features_i = x_features[i]\n",
    "          y = y_ouput[i]\n",
    "          \n",
    "          # compute output \n",
    "          y_hat = predict(features_i, weights)\n",
    "\n",
    "          # compute loss\n",
    "          loss = compute_loss(y, y_hat)\n",
    "\n",
    "          # compute gradient w1, w2, w3, b\n",
    "          dl_dweights = compute_gradient_w(features_i, y, y_hat)\n",
    "\n",
    "          # update parameters\n",
    "          weights = update_weight(weights, dl_dweights, lr)\n",
    "\n",
    "          # logging\n",
    "          losses.append(loss) \n",
    "  return weights, losses"
   ]
  },
  {
   "cell_type": "code",
   "execution_count": 37,
   "metadata": {},
   "outputs": [
    {
     "name": "stdout",
     "output_type": "stream",
     "text": [
      "epoch 0\n",
      "epoch 1\n",
      "epoch 2\n",
      "epoch 3\n",
      "epoch 4\n",
      "epoch 5\n",
      "epoch 6\n",
      "epoch 7\n",
      "epoch 8\n",
      "epoch 9\n",
      "epoch 10\n",
      "epoch 11\n",
      "epoch 12\n",
      "epoch 13\n",
      "epoch 14\n",
      "epoch 15\n",
      "epoch 16\n",
      "epoch 17\n",
      "epoch 18\n",
      "epoch 19\n",
      "epoch 20\n",
      "epoch 21\n",
      "epoch 22\n",
      "epoch 23\n",
      "epoch 24\n",
      "epoch 25\n",
      "epoch 26\n",
      "epoch 27\n",
      "epoch 28\n",
      "epoch 29\n",
      "epoch 30\n",
      "epoch 31\n",
      "epoch 32\n",
      "epoch 33\n",
      "epoch 34\n",
      "epoch 35\n",
      "epoch 36\n",
      "epoch 37\n",
      "epoch 38\n",
      "epoch 39\n",
      "epoch 40\n",
      "epoch 41\n",
      "epoch 42\n",
      "epoch 43\n",
      "epoch 44\n",
      "epoch 45\n",
      "epoch 46\n",
      "epoch 47\n",
      "epoch 48\n",
      "epoch 49\n",
      "31.33922340810991\n"
     ]
    }
   ],
   "source": [
    "# Question 12\n",
    "W,L = implement_linear_regression(X, y, epoch_max=50, lr=1e-5)\n",
    "# Print loss value at interation 9999\n",
    "print(L[9999])"
   ]
  },
  {
   "cell_type": "code",
   "execution_count": null,
   "metadata": {},
   "outputs": [],
   "source": []
  }
 ],
 "metadata": {
  "kernelspec": {
   "display_name": "base",
   "language": "python",
   "name": "python3"
  },
  "language_info": {
   "codemirror_mode": {
    "name": "ipython",
    "version": 3
   },
   "file_extension": ".py",
   "mimetype": "text/x-python",
   "name": "python",
   "nbconvert_exporter": "python",
   "pygments_lexer": "ipython3",
   "version": "3.11.3"
  }
 },
 "nbformat": 4,
 "nbformat_minor": 2
}
