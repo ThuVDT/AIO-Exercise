{
  "nbformat": 4,
  "nbformat_minor": 0,
  "metadata": {
    "colab": {
      "provenance": []
    },
    "kernelspec": {
      "name": "python3",
      "display_name": "Python 3"
    },
    "language_info": {
      "name": "python"
    }
  },
  "cells": [
    {
      "cell_type": "code",
      "execution_count": 22,
      "metadata": {
        "id": "TKZnfquajNSn"
      },
      "outputs": [],
      "source": [
        "import numpy as np"
      ]
    },
    {
      "cell_type": "code",
      "source": [
        "def df_w(W):\n",
        "    \"\"\"\n",
        "    Thực hiện tính gradient của dw1 và dw2\n",
        "    Arguments:\n",
        "    W -- np.array [w1, w2]\n",
        "    Returns:\n",
        "    dW -- np.array [dw1, dw2], array chứa giá trị đạo hàm theo w1 và w2\n",
        "    \"\"\"\n",
        "    w1, w2 = W\n",
        "    dW = np.array([0.2 * w1, 4 * w2])\n",
        "    return dW"
      ],
      "metadata": {
        "id": "B3i-zOvgjVGG"
      },
      "execution_count": 23,
      "outputs": []
    },
    {
      "cell_type": "markdown",
      "source": [
        "### Exercise 1"
      ],
      "metadata": {
        "id": "PAqNwfvyjTr7"
      }
    },
    {
      "cell_type": "code",
      "source": [
        "def sgd(W, dW, lr):\n",
        "    \"\"\"\n",
        "    Thực hiện thuật tóa Gradient Descent để update w1 và w2\n",
        "    Arguments:\n",
        "    W -- np.array: [w1, w2]\n",
        "    dW -- np.array: [dw1, dw2], array chứa giá trị đạo hàm theo w1 và w2\n",
        "    lr -- float: learning rate\n",
        "    Returns:\n",
        "    W -- np.array: [w1, w2] w1 và w2 sau khi đã update\n",
        "    \"\"\"\n",
        "\n",
        "    W = W - lr * dW\n",
        "    return W"
      ],
      "metadata": {
        "id": "h6S7LuozjYDd"
      },
      "execution_count": 24,
      "outputs": []
    },
    {
      "cell_type": "code",
      "source": [
        "def train_p1(optimizer, lr, epochs):\n",
        "    \"\"\"\n",
        "    Thực hiện tìm điểm minimum của function (1) dựa vào thuật toán\n",
        "    được truyền vào từ optimizer\n",
        "    Arguments:\n",
        "    optimize : function thực hiện thuật toán optimization cụ thể\n",
        "    lr -- float: learning rate\n",
        "    epoch -- int: số lượng lần (epoch) lặp để tìm điểm minimum\n",
        "    Returns:\n",
        "    results -- list: list các cặp điểm [w1, w2] sau mỗi epoch (mỗi lần cập nhật)\n",
        "    \"\"\"\n",
        "\n",
        "    # initial point\n",
        "    W = np.array([-5, -2], dtype=np.float32)\n",
        "    # list of results\n",
        "    results = [W]\n",
        "\n",
        "    for _ in range(epochs):\n",
        "        dW = df_w(W)  # Tìm gradient dW\n",
        "        W = optimizer(W, dW, lr)  # Cập nhật W bằng thuật toán optimizer\n",
        "        results.append(W.copy())  # Lưu kết quả vào list results\n",
        "\n",
        "    return results"
      ],
      "metadata": {
        "id": "9-ZElpWCjajC"
      },
      "execution_count": 25,
      "outputs": []
    },
    {
      "cell_type": "code",
      "source": [
        "train_p1(sgd, lr=0.4, epochs=30)"
      ],
      "metadata": {
        "colab": {
          "base_uri": "https://localhost:8080/"
        },
        "id": "YMWik8yAjdsp",
        "outputId": "518b114d-760c-41e7-f26a-9996723fbdfa"
      },
      "execution_count": 26,
      "outputs": [
        {
          "output_type": "execute_result",
          "data": {
            "text/plain": [
              "[array([-5., -2.], dtype=float32),\n",
              " array([-4.6,  1.2]),\n",
              " array([-4.232, -0.72 ]),\n",
              " array([-3.89344,  0.432  ]),\n",
              " array([-3.5819648, -0.2592   ]),\n",
              " array([-3.29540762,  0.15552   ]),\n",
              " array([-3.03177501, -0.093312  ]),\n",
              " array([-2.78923301,  0.0559872 ]),\n",
              " array([-2.56609437, -0.03359232]),\n",
              " array([-2.36080682,  0.02015539]),\n",
              " array([-2.17194227, -0.01209324]),\n",
              " array([-1.99818689,  0.00725594]),\n",
              " array([-1.83833194, -0.00435356]),\n",
              " array([-1.69126538,  0.00261214]),\n",
              " array([-1.55596415, -0.00156728]),\n",
              " array([-1.43148702e+00,  9.40369969e-04]),\n",
              " array([-1.31696806e+00, -5.64221981e-04]),\n",
              " array([-1.21161061e+00,  3.38533189e-04]),\n",
              " array([-1.11468176e+00, -2.03119913e-04]),\n",
              " array([-1.02550722e+00,  1.21871948e-04]),\n",
              " array([-9.43466646e-01, -7.31231688e-05]),\n",
              " array([-8.67989314e-01,  4.38739013e-05]),\n",
              " array([-7.98550169e-01, -2.63243408e-05]),\n",
              " array([-7.34666155e-01,  1.57946045e-05]),\n",
              " array([-6.75892863e-01, -9.47676268e-06]),\n",
              " array([-6.21821434e-01,  5.68605761e-06]),\n",
              " array([-5.72075719e-01, -3.41163456e-06]),\n",
              " array([-5.26309662e-01,  2.04698074e-06]),\n",
              " array([-4.84204889e-01, -1.22818844e-06]),\n",
              " array([-4.45468498e-01,  7.36913066e-07]),\n",
              " array([-4.09831018e-01, -4.42147839e-07])]"
            ]
          },
          "metadata": {},
          "execution_count": 26
        }
      ]
    },
    {
      "cell_type": "markdown",
      "source": [
        "### Exercise 2"
      ],
      "metadata": {
        "id": "jClAHIfqlBlt"
      }
    },
    {
      "cell_type": "code",
      "source": [
        "def sgd_momentum(W, dW, lr, V, beta):\n",
        "    \"\"\"\n",
        "    Thực hiện thuật toán Gradient Descent + Momentum để update w1 và w2\n",
        "    Arguments:\n",
        "    W -- np.array: [w1, w2]\n",
        "    dW -- np.array: [dw1, dw2], array chứa giá trị đạo hàm theo w1 và w2\n",
        "    lr -- float: learning rate\n",
        "    V -- np.array: [v1, v2] Exponentially weighted averages gradients\n",
        "    beta -- float: hệ số long-range average\n",
        "    Returns:\n",
        "    W -- np.array: [w1, w2] w1 và w2 sau khi đã update\n",
        "    V -- np.array: [v1, v2] Exponentially weighted averages gradients sau khi đã cập nhật\n",
        "    \"\"\"\n",
        "    # Tính vận tốc mới V\n",
        "    V = beta * V + (1 - beta) * dW\n",
        "\n",
        "    # Cập nhật trọng số W\n",
        "    W = W - lr * V\n",
        "\n",
        "    return W, V"
      ],
      "metadata": {
        "id": "avUd3UTklCer"
      },
      "execution_count": 27,
      "outputs": []
    },
    {
      "cell_type": "code",
      "source": [
        "def train_p2(optimizer, lr, epochs):\n",
        "    \"\"\"\n",
        "    Thực hiện tìm điểm minimum của function (1) dựa vào thuật toán\n",
        "    được truyền vào từ optimizer\n",
        "    Arguments:\n",
        "    optimize : function thực hiện thuật toán optimization cụ thể\n",
        "    lr -- float: learning rate\n",
        "    epochs -- int: số lượng lần (epoch) lặp để tìm điểm minimum\n",
        "    Returns:\n",
        "    results -- list: list các cặp điểm [w1, w2] sau mỗi epoch (mỗi lần cập nhật)\n",
        "    \"\"\"\n",
        "    # Khởi tạo trọng số và vận tốc\n",
        "    W = np.array([-5, -2], dtype=np.float32)\n",
        "    V = np.array([0, 0], dtype=np.float32)\n",
        "    results = [W]\n",
        "\n",
        "    for epoch in range(epochs):\n",
        "        dW = df_w(W)\n",
        "\n",
        "        W, V = optimizer(W, dW, lr, V, beta=0.5)\n",
        "\n",
        "        results.append(W)\n",
        "\n",
        "    return results\n"
      ],
      "metadata": {
        "id": "grgG9_D1lseb"
      },
      "execution_count": 28,
      "outputs": []
    },
    {
      "cell_type": "code",
      "source": [
        "train_p2(sgd_momentum, lr=0.6, epochs=30)"
      ],
      "metadata": {
        "colab": {
          "base_uri": "https://localhost:8080/"
        },
        "id": "wjdqK1dsl6kB",
        "outputId": "08be8fb0-96cb-49c8-c2ac-cb64284c133e"
      },
      "execution_count": 29,
      "outputs": [
        {
          "output_type": "execute_result",
          "data": {
            "text/plain": [
              "[array([-5., -2.], dtype=float32),\n",
              " array([-4.7,  0.4]),\n",
              " array([-4.268,  1.12 ]),\n",
              " array([-3.79592,  0.136  ]),\n",
              " array([-3.3321248, -0.5192   ]),\n",
              " array([-2.90029971, -0.22376   ]),\n",
              " array([-2.51036919,  0.192472  ]),\n",
              " array([-2.16478177,  0.1696216 ]),\n",
              " array([-1.86210116, -0.04534952]),\n",
              " array([-1.59903478, -0.09841566]),\n",
              " array([-1.37155951, -0.00684994]),\n",
              " array([-1.1755283 ,  0.04715285]),\n",
              " array([-1.006981  ,  0.01757082]),\n",
              " array([-0.86228849, -0.01830518]),\n",
              " array([-0.73820492, -0.01427696]),\n",
              " array([-0.63187084,  0.0048695 ]),\n",
              " array([-0.54079155,  0.00859933]),\n",
              " array([-4.62804416e-01,  1.45050014e-04]),\n",
              " array([-0.39604258, -0.00425615]),\n",
              " array([-0.33889911, -0.00134937]),\n",
              " array([-0.28999343,  0.00172326]),\n",
              " array([-0.24814098,  0.00119166]),\n",
              " array([-0.2123263 , -0.00050413]),\n",
              " array([-0.18167938, -0.00074707]),\n",
              " array([-1.55455157e-01,  2.79448010e-05]),\n",
              " array([-0.13301574,  0.00038192]),\n",
              " array([-1.13815082e-01,  1.00603444e-04]),\n",
              " array([-0.09738585, -0.00016078]),\n",
              " array([-8.33280829e-02, -9.85353344e-05]),\n",
              " array([-7.12995144e-02,  5.08287536e-05]),\n",
              " array([-6.10072592e-02,  6.45162933e-05])]"
            ]
          },
          "metadata": {},
          "execution_count": 29
        }
      ]
    },
    {
      "cell_type": "markdown",
      "source": [
        "### Exercise 3"
      ],
      "metadata": {
        "id": "wHgwXyEcnj7b"
      }
    },
    {
      "cell_type": "code",
      "source": [
        "def RMSProp(W, dW, lr, S, gamma):\n",
        "    \"\"\"\n",
        "    Thực hiện thuật toán RMSProp để cập nhật w1 và w2\n",
        "    Arguments:\n",
        "    W -- np.array: [w1, w2]\n",
        "    dW -- np.array: [dw1, dw2], array chứa giá trị đạo hàm theo w1 và w2\n",
        "    lr -- float: learning rate (α)\n",
        "    S -- np.array: [s1, s2] Exponentially weighted averages bình phương gradients\n",
        "    gamma -- float: hệ số long-range average (γ)\n",
        "    Returns:\n",
        "    W -- np.array: [w1, w2] sau khi đã update\n",
        "    S -- np.array: [s1, s2] sau khi đã update\n",
        "    \"\"\"\n",
        "    epsilon = 1e-6\n",
        "\n",
        "    S = gamma * S + (1 - gamma) * dW**2\n",
        "\n",
        "    W = W - lr * dW / (np.sqrt(S) + epsilon)\n",
        "\n",
        "    return W, S"
      ],
      "metadata": {
        "id": "SnwURcbkmB4Z"
      },
      "execution_count": 30,
      "outputs": []
    },
    {
      "cell_type": "code",
      "source": [
        "def train_p3(optimizer, lr, epochs, gamma):\n",
        "    \"\"\"\n",
        "    Thực hiện tìm điểm minimum của function (1) dựa vào thuật toán\n",
        "    được truyền vào từ optimizer\n",
        "    Arguments:\n",
        "    optimizer : function thực hiện thuật toán optimization cụ thể\n",
        "    lr -- float: learning rate (α)\n",
        "    epochs -- int: số lượng lần (epoch) lặp để tìm điểm minimum\n",
        "    gamma -- float: hệ số long-range average trong thuật toán RMSProp (γ)\n",
        "    Returns:\n",
        "    results -- list: list các cặp điểm [w1, w2] sau mỗi epoch (mỗi lần cập nhật)\n",
        "    \"\"\"\n",
        "    # Initial points\n",
        "    W = np.array([-5, -2], dtype=np.float32)\n",
        "    S = np.array([0, 0], dtype=np.float32)\n",
        "    results = [W]\n",
        "\n",
        "    for epoch in range(epochs):\n",
        "         dW = df_w(W)\n",
        "         W, S = optimizer(W, dW, lr, S, gamma)\n",
        "         results.append(W)\n",
        "\n",
        "    return results"
      ],
      "metadata": {
        "id": "5Q1J6WWjnxQZ"
      },
      "execution_count": 31,
      "outputs": []
    },
    {
      "cell_type": "code",
      "source": [
        "train_p3(RMSProp, lr=0.3, epochs=30, gamma=0.9)"
      ],
      "metadata": {
        "colab": {
          "base_uri": "https://localhost:8080/"
        },
        "id": "T3XkDIGbn40S",
        "outputId": "2d5086f2-29da-4d3a-b418-c23f62d93930"
      },
      "execution_count": 32,
      "outputs": [
        {
          "output_type": "execute_result",
          "data": {
            "text/plain": [
              "[array([-5., -2.], dtype=float32),\n",
              " array([-4.0513197 , -1.05131708]),\n",
              " array([-3.43519553, -0.59152376]),\n",
              " array([-2.95893489, -0.3294397 ]),\n",
              " array([-2.56546089, -0.17756504]),\n",
              " array([-2.22920358, -0.09163272]),\n",
              " array([-1.93626564, -0.04494508]),\n",
              " array([-1.67817504, -0.02081429]),\n",
              " array([-1.44934809, -0.00903562]),\n",
              " array([-1.24588029, -0.00364592]),\n",
              " array([-1.06490135, -0.00135352]),\n",
              " array([-9.04200650e-01, -4.56447225e-04]),\n",
              " array([-7.61994932e-01, -1.37563947e-04]),\n",
              " array([-6.36776983e-01, -3.62604278e-05]),\n",
              " array([-5.27213771e-01, -8.11346375e-06]),\n",
              " array([-4.32077091e-01, -1.47475425e-06]),\n",
              " array([-3.50197152e-01, -2.02787524e-07]),\n",
              " array([-2.80433359e-01, -1.84235524e-08]),\n",
              " array([-2.21658617e-01, -7.67771777e-10]),\n",
              " array([-1.72754375e-01,  7.80432778e-12]),\n",
              " array([-1.32614084e-01, -5.05777072e-13]),\n",
              " array([-1.00152823e-01,  6.19098174e-14]),\n",
              " array([-7.43209130e-02, -1.13368674e-14]),\n",
              " array([-5.41193712e-02,  2.80153177e-15]),\n",
              " array([-3.86152607e-02, -8.81296300e-16]),\n",
              " array([-2.69552510e-02,  3.39903035e-16]),\n",
              " array([-1.83761024e-02, -1.56573095e-16]),\n",
              " array([-1.22112361e-02,  8.44946934e-17]),\n",
              " array([-7.89302368e-03, -5.26345869e-17]),\n",
              " array([-4.95087715e-03,  3.74085662e-17]),\n",
              " array([-3.00560338e-03, -3.00487798e-17])]"
            ]
          },
          "metadata": {},
          "execution_count": 32
        }
      ]
    },
    {
      "cell_type": "markdown",
      "source": [
        "### Exercise 4"
      ],
      "metadata": {
        "id": "YEh1LWnLoaL8"
      }
    },
    {
      "cell_type": "code",
      "source": [
        "import numpy as np\n",
        "\n",
        "def Adam(W, dW, lr, V, S, beta1, beta2, t):\n",
        "    \"\"\"\n",
        "    Thực hiện thuật toán Adam để cập nhật w1 và w2.\n",
        "\n",
        "    Arguments:\n",
        "    W -- np.array: [w1, w2]\n",
        "    dW -- np.array: [dw1, dw2], array chứa giá trị đạo hàm theo w1 và w2\n",
        "    lr -- float: learning rate\n",
        "    V -- np.array: [v1, v2] Exponentially weighted averages gradients\n",
        "    S -- np.array: [s1, s2] Exponentially weighted averages bình phương gradients\n",
        "    beta1 -- float: hệ số long-range average cho V\n",
        "    beta2 -- float: hệ số long-range average cho S\n",
        "    t -- int: số epoch hiện tại (từ 1 trở đi)\n",
        "\n",
        "    Returns:\n",
        "    W -- np.array: [w1, w2] w1 và w2 sau khi đã update\n",
        "    V -- np.array: [v1, v2] Exponentially weighted averages gradients sau khi đã cập nhật\n",
        "    S -- np.array: [s1, s2] Exponentially weighted averages bình phương gradients sau khi đã cập nhật\n",
        "    \"\"\"\n",
        "    epsilon = 1e-6\n",
        "\n",
        "    V = beta1 * V + (1 - beta1) * dW\n",
        "    S = beta2 * S + (1 - beta2) * (dW ** 2)\n",
        "\n",
        "    V_hat = V / (1 - beta1 ** t)\n",
        "    S_hat = S / (1 - beta2 ** t)\n",
        "\n",
        "    W = W - lr * V_hat / (np.sqrt(S_hat) + epsilon)\n",
        "\n",
        "    return W, V, S"
      ],
      "metadata": {
        "id": "AIpXSVpdn6pj"
      },
      "execution_count": 33,
      "outputs": []
    },
    {
      "cell_type": "code",
      "source": [
        "def train_p4(optimizer, lr, epochs, beta1=0.9, beta2=0.999):\n",
        "    \"\"\"\n",
        "    Thực hiện tìm điểm minimum của function (1) với Adam.\n",
        "\n",
        "    Arguments:\n",
        "    optimizer -- function thực hiện thuật toán optimization (Adam)\n",
        "    lr -- float: learning rate\n",
        "    epochs -- int: số lượng lần (epoch) lặp để tìm điểm minimum\n",
        "    beta1 -- float: hệ số long-range average cho V (mặc định là 0.9)\n",
        "    beta2 -- float: hệ số long-range average cho S (mặc định là 0.999)\n",
        "\n",
        "    Returns:\n",
        "    results -- list: list các cặp điểm [w1, w2] sau mỗi epoch (mỗi lần cập nhật)\n",
        "    \"\"\"\n",
        "    # Khởi tạo các tham số\n",
        "    W = np.array([-5, -2], dtype=np.float32)  # Khởi tạo w1 và w2\n",
        "    V = np.array([0, 0], dtype=np.float32)  # Khởi tạo v1 và v2\n",
        "    S = np.array([0, 0], dtype=np.float32)  # Khởi tạo s1 và s2\n",
        "    results = [W]\n",
        "\n",
        "    for t in range(1, epochs + 1):\n",
        "        dW = df_w(W)\n",
        "        W, V, S = optimizer(W, dW, lr, V, S, beta1, beta2, t)\n",
        "        results.append(W)\n",
        "\n",
        "    return results"
      ],
      "metadata": {
        "id": "zQIucoiFoow0"
      },
      "execution_count": 34,
      "outputs": []
    },
    {
      "cell_type": "code",
      "source": [
        "train_p4(Adam, lr=0.2, epochs=30)"
      ],
      "metadata": {
        "colab": {
          "base_uri": "https://localhost:8080/"
        },
        "id": "G-NSZlHho0_R",
        "outputId": "314622c1-5ff3-4673-ec1e-05b9ae1fff4c"
      },
      "execution_count": 35,
      "outputs": [
        {
          "output_type": "execute_result",
          "data": {
            "text/plain": [
              "[array([-5., -2.], dtype=float32),\n",
              " array([-4.8000002 , -1.80000002]),\n",
              " array([-4.60025478, -1.60082451]),\n",
              " array([-4.40094848, -1.40317262]),\n",
              " array([-4.20227764, -1.20787822]),\n",
              " array([-4.00445033, -1.01592745]),\n",
              " array([-3.80768638, -0.82847307]),\n",
              " array([-3.61221732, -0.64684159]),\n",
              " array([-3.41828623, -0.47252765]),\n",
              " array([-3.22614739, -0.30716934]),\n",
              " array([-3.03606592, -0.15249855]),\n",
              " array([-2.84831706, -0.01026326]),\n",
              " array([-2.66318543,  0.11787552]),\n",
              " array([-2.480964  ,  0.23046161]),\n",
              " array([-2.30195279,  0.3263587 ]),\n",
              " array([-2.12645742,  0.40484195]),\n",
              " array([-1.95478732,  0.46564961]),\n",
              " array([-1.7872537 ,  0.50898799]),\n",
              " array([-1.62416726,  0.53549442]),\n",
              " array([-1.46583566,  0.54617144]),\n",
              " array([-1.31256067,  0.54230812]),\n",
              " array([-1.16463526,  0.52540206]),\n",
              " array([-1.02234036,  0.4970906 ]),\n",
              " array([-0.88594163,  0.4590951 ]),\n",
              " array([-0.75568617,  0.41317781]),\n",
              " array([-0.63179919,  0.3611089 ]),\n",
              " array([-0.51448089,  0.30464048]),\n",
              " array([-0.40390346,  0.24548409]),\n",
              " array([-0.30020842,  0.18528918]),\n",
              " array([-0.20350426,  0.12562074]),\n",
              " array([-0.11386457,  0.06793529])]"
            ]
          },
          "metadata": {},
          "execution_count": 35
        }
      ]
    }
  ]
}